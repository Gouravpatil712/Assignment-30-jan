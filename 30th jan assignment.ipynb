{
 "cells": [
  {
   "cell_type": "markdown",
   "id": "ab5d8bfa-8fac-4c81-aa66-57158fce1dc5",
   "metadata": {},
   "source": [
    "## Qustion 01 - Write a program to accept percentage from the user and display the grade according to the following criteria:"
   ]
  },
  {
   "cell_type": "code",
   "execution_count": 1,
   "id": "95edb06d-217a-438d-85d8-a4c68eeb936b",
   "metadata": {},
   "outputs": [
    {
     "name": "stdin",
     "output_type": "stream",
     "text": [
      "Enter the Percentage :  87\n"
     ]
    },
    {
     "name": "stdout",
     "output_type": "stream",
     "text": [
      "Well done! Your grade is B, which is  very good performance\n"
     ]
    }
   ],
   "source": [
    "# Answer :-\n",
    "\n",
    "Marks = float(input('Enter the Percentage : '))\n",
    "\n",
    "if Marks > 90 :\n",
    "    print('Congratulations! Your grade is A, which is a remarkable achievement')\n",
    "elif Marks > 80 and Marks <= 90 :\n",
    "    print('Well done! Your grade is B, which is  very good performance')\n",
    "elif Marks > 60 and Marks <= 80 :\n",
    "    print('Good job! Your grade is C, which shows a good performance but need the more hard work')\n",
    "else :\n",
    "    print('Unfortunately, your grade is D, which suggests that you need to work harder')"
   ]
  },
  {
   "cell_type": "markdown",
   "id": "4c63b638-dd97-4ac6-9f92-f29da53b76e2",
   "metadata": {},
   "source": [
    "## Qustion 02 - Write a program to accept the cost price of a bike and display the road tax to be paid according to the following criteria:"
   ]
  },
  {
   "cell_type": "code",
   "execution_count": 2,
   "id": "3c455707-46ee-473f-a263-c9e67e3fdb6f",
   "metadata": {},
   "outputs": [
    {
     "name": "stdin",
     "output_type": "stream",
     "text": [
      "Enter the Cost price of a Bike :  96785\n"
     ]
    },
    {
     "name": "stdout",
     "output_type": "stream",
     "text": [
      "Based on the cost price of your bike, the road tax you have to pay is 10%.\n"
     ]
    }
   ],
   "source": [
    "# Answer :-\n",
    "\n",
    "cost = float(input('Enter the Cost price of a Bike : '))\n",
    "\n",
    "if cost > 100000 :\n",
    "    print('Based on the cost price of your bike, the road tax you have to pay is 15%.')\n",
    "elif cost > 50000 and cost <= 100000 :\n",
    "    print('Based on the cost price of your bike, the road tax you have to pay is 10%.')\n",
    "else:\n",
    "    print('Based on the cost price of your bike, the road tax you have to pay is 5%.')"
   ]
  },
  {
   "cell_type": "markdown",
   "id": "cd431be4-2453-4887-9654-a7624aed303c",
   "metadata": {},
   "source": [
    "##Question 03 - Accept any city from the user and display the momument of the city ?"
   ]
  },
  {
   "cell_type": "code",
   "execution_count": 3,
   "id": "d6a9d9ce-dc96-4559-a905-c6a62ec5cd6f",
   "metadata": {},
   "outputs": [
    {
     "name": "stdin",
     "output_type": "stream",
     "text": [
      "Enter the name of an Indian city:  agra\n"
     ]
    },
    {
     "name": "stdout",
     "output_type": "stream",
     "text": [
      "The Taj Malal is a famous monument in Agra\n"
     ]
    }
   ],
   "source": [
    "# Answer :-\n",
    "\n",
    "city = input('Enter the name of an Indian city: ')\n",
    "\n",
    "if city.lower == 'delhi' :\n",
    "    print('The Red Ford is a famous monument in Delhi')\n",
    "elif city.lower() == 'agra':\n",
    "    print('The Taj Malal is a famous monument in Agra')\n",
    "elif city.lower() == 'jaipur':\n",
    "    print('The Jal Mahal is a famous monument in Jaipur')\n",
    "elif city.lower() == 'mumbai':\n",
    "    print('The Gateway of India is a famous monument in Mumbai')\n",
    "else:\n",
    "    print(\"Sorry, we don't have information about the monument in that city\")"
   ]
  },
  {
   "cell_type": "markdown",
   "id": "52ae53c0-4f38-4bb8-bb17-22aef8a68fe6",
   "metadata": {},
   "source": [
    "Question 04 - Check how many times a given number can be divided by 3 before it is less than or equal to 10 ?"
   ]
  },
  {
   "cell_type": "code",
   "execution_count": 5,
   "id": "d135094a-974c-4bdc-956f-0005e49c9536",
   "metadata": {},
   "outputs": [
    {
     "name": "stdin",
     "output_type": "stream",
     "text": [
      "Enter a number:  6\n"
     ]
    },
    {
     "name": "stdout",
     "output_type": "stream",
     "text": [
      "The number can be divided by 3 0 times before it becomes less than or equal to 10.\n"
     ]
    }
   ],
   "source": [
    "# Answer :-\n",
    "number = int(input(\"Enter a number: \"))\n",
    "count = 0\n",
    "\n",
    "while number > 10:\n",
    "    number = number / 3\n",
    "    count += 1\n",
    "\n",
    "print(\"The number can be divided by 3\", count, \"times before it becomes less than or equal to 10.\")"
   ]
  },
  {
   "cell_type": "markdown",
   "id": "49617901-15b7-4c39-9153-e863a1c7ae4f",
   "metadata": {},
   "source": [
    "Question 05 - Why and when to use while loop in python give a detalis description with example ?"
   ]
  },
  {
   "cell_type": "code",
   "execution_count": 2,
   "id": "3f2b0305-3872-49c9-ae90-755912147cd4",
   "metadata": {},
   "outputs": [
    {
     "name": "stdout",
     "output_type": "stream",
     "text": [
      "1\n",
      "2\n",
      "3\n",
      "4\n",
      "5\n"
     ]
    }
   ],
   "source": [
    "#Answer\n",
    "\n",
    "'''A while loop in Python is used to execute a block of code repeatedly as long as a given condition is true. \n",
    "\n",
    "The basic structure of a while loop is as follows:\n",
    "\n",
    "python\n",
    "while condition:\n",
    "The condition is evaluated at the beginning of each iteration of the loop. \n",
    "If the condition is true, the code inside the loop is executed.\n",
    "If the condition is false, the loop is terminated and the program continues with the next statement after the loop.\n",
    "It's important to ensure that the condition will eventually become false, otherwise the loop will run indefinitely and cause an infinite loop.'''\n",
    "\n",
    "\n",
    "#This is an an example for while loop\n",
    "\n",
    "count = 1\n",
    "\n",
    "while count <= 5:\n",
    "    print(count)\n",
    "    count += 1"
   ]
  },
  {
   "cell_type": "markdown",
   "id": "fa7a909d-3bbc-47d3-8969-11f23703d594",
   "metadata": {},
   "source": [
    "Question 6 - Use nested while loop to print 3 different pattern ?"
   ]
  },
  {
   "cell_type": "code",
   "execution_count": 1,
   "id": "c82671fc-d00c-43cb-8a00-3e4f3a04361b",
   "metadata": {},
   "outputs": [
    {
     "name": "stdout",
     "output_type": "stream",
     "text": [
      "1 2 3 4 5 6 7 8 9 10 \n",
      "2 3 4 5 6 7 8 9 10 \n",
      "3 4 5 6 7 8 9 10 \n",
      "4 5 6 7 8 9 10 \n",
      "5 6 7 8 9 10 \n",
      "6 7 8 9 10 \n",
      "7 8 9 10 \n",
      "8 9 10 \n",
      "9 10 \n",
      "10 \n"
     ]
    }
   ],
   "source": [
    "# Answer :-\n",
    "\n",
    "#first pattern\n",
    "numbers = [1, 2, 3, 4, 5, 6, 7, 8, 9, 10]\n",
    "\n",
    "i = 0\n",
    "while i < len(numbers):\n",
    "    j = i\n",
    "    while j < len(numbers):\n",
    "        print(numbers[j], end=\" \")\n",
    "        j = j+ 1\n",
    "    print()\n",
    "    i = i + 1"
   ]
  },
  {
   "cell_type": "code",
   "execution_count": 4,
   "id": "c223a59c-98e1-44af-a419-6634177b53bc",
   "metadata": {},
   "outputs": [
    {
     "name": "stdout",
     "output_type": "stream",
     "text": [
      "10 9 8 7 6 5 4 3 2 1 \n",
      "10 9 8 7 6 5 4 3 2 \n",
      "10 9 8 7 6 5 4 3 \n",
      "10 9 8 7 6 5 4 \n",
      "10 9 8 7 6 5 \n",
      "10 9 8 7 6 \n",
      "10 9 8 7 \n",
      "10 9 8 \n",
      "10 9 \n",
      "10 \n"
     ]
    }
   ],
   "source": [
    "# Second pattern\n",
    "\n",
    "numbers = [1, 2, 3, 4, 5, 6, 7, 8, 9, 10]\n",
    "i = 0\n",
    "while i < len(numbers):\n",
    "    j = len(numbers) - 1\n",
    "    while j >= i:\n",
    "        print(numbers[j], end=\" \")\n",
    "        j = j- 1\n",
    "    print()\n",
    "    i = i+ 1"
   ]
  },
  {
   "cell_type": "code",
   "execution_count": 5,
   "id": "5db3197d-6e5a-40fe-abe9-438c5ce17227",
   "metadata": {},
   "outputs": [
    {
     "name": "stdout",
     "output_type": "stream",
     "text": [
      "1 1 1 1 1 1 1 1 1 1 \n",
      "2 2 2 2 2 2 2 2 2 2 \n",
      "3 3 3 3 3 3 3 3 3 3 \n",
      "4 4 4 4 4 4 4 4 4 4 \n",
      "5 5 5 5 5 5 5 5 5 5 \n",
      "6 6 6 6 6 6 6 6 6 6 \n",
      "7 7 7 7 7 7 7 7 7 7 \n",
      "8 8 8 8 8 8 8 8 8 8 \n",
      "9 9 9 9 9 9 9 9 9 9 \n",
      "10 10 10 10 10 10 10 10 10 10 \n"
     ]
    }
   ],
   "source": [
    "# Third pattern\n",
    "\n",
    "numbers = [1, 2, 3, 4, 5, 6, 7, 8, 9, 10]\n",
    "i = 0\n",
    "while i < len(numbers):\n",
    "    j = 0\n",
    "    while j < len(numbers):\n",
    "        print(numbers[i], end=\" \")\n",
    "        j = j+ 1\n",
    "    print()\n",
    "    i = i+ 1"
   ]
  },
  {
   "cell_type": "markdown",
   "id": "ce3c0903-7e9b-4ede-9ea0-e0612dcf6431",
   "metadata": {},
   "source": [
    "## Question 07 - Reverse a while loop to display numbers from 10 to 1 ?"
   ]
  },
  {
   "cell_type": "code",
   "execution_count": 8,
   "id": "1a4c550a-162b-4814-9a6c-b346df64a0b1",
   "metadata": {},
   "outputs": [
    {
     "name": "stdout",
     "output_type": "stream",
     "text": [
      "10 9 8 7 6 5 4 3 2 1 "
     ]
    }
   ],
   "source": [
    "# Answer \n",
    "\n",
    "number = 10\n",
    "while number >= 1:\n",
    "    print(number, end=\" \")\n",
    "    number = number - 1"
   ]
  },
  {
   "cell_type": "markdown",
   "id": "e258a2dd-5779-4bd5-86cd-63dbcd5b8e84",
   "metadata": {},
   "source": [
    "## Question numbers 7 and 8 is same"
   ]
  },
  {
   "cell_type": "code",
   "execution_count": null,
   "id": "45f47af5-274e-449a-adba-a343ebaf3d62",
   "metadata": {},
   "outputs": [],
   "source": []
  }
 ],
 "metadata": {
  "kernelspec": {
   "display_name": "Python 3 (ipykernel)",
   "language": "python",
   "name": "python3"
  },
  "language_info": {
   "codemirror_mode": {
    "name": "ipython",
    "version": 3
   },
   "file_extension": ".py",
   "mimetype": "text/x-python",
   "name": "python",
   "nbconvert_exporter": "python",
   "pygments_lexer": "ipython3",
   "version": "3.10.8"
  }
 },
 "nbformat": 4,
 "nbformat_minor": 5
}
